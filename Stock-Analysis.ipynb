{
  "nbformat": 4,
  "nbformat_minor": 0,
  "metadata": {
    "colab": {
      "provenance": []
    },
    "kernelspec": {
      "name": "python3",
      "display_name": "Python 3"
    },
    "language_info": {
      "name": "python"
    }
  },
  "cells": [
    {
      "cell_type": "code",
      "source": [
        "import pandas as pd\n"
      ],
      "metadata": {
        "id": "OSX4IJ09Qwan"
      },
      "execution_count": null,
      "outputs": []
    },
    {
      "cell_type": "code",
      "source": [
        "# Step 1: Load the CSV files for Spotify and DJIA\n",
        "spotify_file = '/content/drive/MyDrive/dataset/Spotify_Closing_Price.csv' # Replace with the path to your Spotify CSV file\n",
        "djia_file = '/content/drive/MyDrive/dataset/DJIA_Closing_Price.csv' # Replace with the path to your DJIA CSV file"
      ],
      "metadata": {
        "id": "1KMdzyX8RNeB"
      },
      "execution_count": null,
      "outputs": []
    },
    {
      "cell_type": "code",
      "source": [
        "# Loading Spotify and DJIA data from CSVs\n",
        "spotify_data = pd.read_csv(spotify_file, parse_dates=['Date'])\n",
        "djia_data = pd.read_csv(djia_file, parse_dates=['Date'])\n"
      ],
      "metadata": {
        "id": "P81UefstRZ9p"
      },
      "execution_count": null,
      "outputs": []
    },
    {
      "cell_type": "code",
      "source": [
        "# Step 2: Preprocess the data\n",
        "# Ensure 'Date' is the index for both dataframes\n",
        "spotify_data.set_index('Date', inplace=True)\n",
        "djia_data.set_index('Date', inplace=True)\n"
      ],
      "metadata": {
        "id": "LUwOwc0tXImQ"
      },
      "execution_count": null,
      "outputs": []
    },
    {
      "cell_type": "code",
      "source": [
        "# Checking the column names to make sure they're correct\n",
        "print(\"Spotify Data:\\n\", spotify_data.head())\n",
        "print(\"DJIA Data:\\n\", djia_data.head())"
      ],
      "metadata": {
        "colab": {
          "base_uri": "https://localhost:8080/"
        },
        "id": "-xPJ20_wRme7",
        "outputId": "c5615796-cbfe-43d8-99da-3b646fa0392a"
      },
      "execution_count": null,
      "outputs": [
        {
          "output_type": "stream",
          "name": "stdout",
          "text": [
            "Spotify Data:\n",
            "                   SPOT  Daily Return\n",
            "Date                                \n",
            "2019-12-16  150.779999           NaN\n",
            "2019-12-17  151.529999      0.004974\n",
            "2019-12-18  150.869995     -0.004356\n",
            "2019-12-19  149.679993     -0.007888\n",
            "2019-12-20  150.309998      0.004209\n",
            "DJIA Data:\n",
            "                     ^DJI\n",
            "Date                    \n",
            "2019-12-16  28235.890625\n",
            "2019-12-17  28267.160156\n",
            "2019-12-18  28239.279297\n",
            "2019-12-19  28376.960938\n",
            "2019-12-20  28455.089844\n"
          ]
        }
      ]
    },
    {
      "cell_type": "markdown",
      "source": [
        "Calculating the daily returns for Spotify & plotting a histogram of the daily returns"
      ],
      "metadata": {
        "id": "eB4ehtduU6bG"
      }
    },
    {
      "cell_type": "code",
      "source": [
        "# Calculating the daily returns for Spotify\n",
        "spotify_data['Daily Return'] = spotify_data['SPOT'].pct_change()"
      ],
      "metadata": {
        "id": "z6ZyVZPjRqnn"
      },
      "execution_count": null,
      "outputs": []
    },
    {
      "cell_type": "code",
      "source": [
        "# Plotting a histogram of Spotify's daily returns\n",
        "plt.figure(figsize=(10,6))\n",
        "plt.hist(spotify_data['Daily Return'].dropna(), bins=50, edgecolor='black')\n",
        "plt.title(\"Histogram of Spotify Daily Returns\")\n",
        "plt.xlabel('Daily Return')\n",
        "plt.ylabel('Frequency')\n",
        "plt.grid(True)\n",
        "plt.show()"
      ],
      "metadata": {
        "colab": {
          "base_uri": "https://localhost:8080/",
          "height": 564
        },
        "id": "D6gcytgmSD-4",
        "outputId": "0e0265f4-f130-4228-901d-a832f09bfbde"
      },
      "execution_count": null,
      "outputs": [
        {
          "output_type": "display_data",
          "data": {
            "text/plain": [
              "<Figure size 1000x600 with 1 Axes>"
            ],
            "image/png": "[encoded data removed]"
          },
          "metadata": {}
        }
      ]
    },
    {
      "cell_type": "markdown",
      "source": [
        "Calculating the skewness and kurtosis of the daily returns."
      ],
      "metadata": {
        "id": "Nie_iLfLVZch"
      }
    },
    {
      "cell_type": "code",
      "source": [
        "# Calulating skewness and kurtosis for Spotify's daily returns\n",
        "skewness = skew(spotify_data['Daily Return'].dropna())\n",
        "kurt = kurtosis(spotify_data['Daily Return'].dropna())"
      ],
      "metadata": {
        "id": "J6uwOc8NSGsl"
      },
      "execution_count": null,
      "outputs": []
    },
    {
      "cell_type": "code",
      "source": [
        "print(f\"Skewness of Spotify Daily Returns: {skewness:.4f}\")\n",
        "print(f\"Kurtosis of Spotify Daily Returns: {kurt:.4f}\")"
      ],
      "metadata": {
        "colab": {
          "base_uri": "https://localhost:8080/"
        },
        "id": "1xoGjWiRSLZc",
        "outputId": "9c6335b3-7623-4893-df70-a089826b3c9d"
      },
      "execution_count": null,
      "outputs": [
        {
          "output_type": "stream",
          "name": "stdout",
          "text": [
            "Skewness of Spotify Daily Returns: 0.0570\n",
            "Kurtosis of Spotify Daily Returns: 3.2178\n"
          ]
        }
      ]
    },
    {
      "cell_type": "markdown",
      "source": [
        " Determining using a statistical test if the daily returns following a normal distribution (with 95% confidence)"
      ],
      "metadata": {
        "id": "81FN2yUHVosu"
      }
    },
    {
      "cell_type": "code",
      "source": [
        "# Testing for normal distribution (Shapiro-Wilk Test)\n",
        "stat, p_value = shapiro(spotify_data['Daily Return'].dropna())\n",
        "print(f\"Shapiro-Wilk Test p-value: {p_value:.4f}\")"
      ],
      "metadata": {
        "colab": {
          "base_uri": "https://localhost:8080/"
        },
        "id": "ZqVxQ4QsSO9o",
        "outputId": "8b3415a8-e0b6-43ad-bbce-6f8f5fe9684b"
      },
      "execution_count": null,
      "outputs": [
        {
          "output_type": "stream",
          "name": "stdout",
          "text": [
            "Shapiro-Wilk Test p-value: 0.0000\n"
          ]
        }
      ]
    },
    {
      "cell_type": "code",
      "source": [
        "if p_value > 0.05:\n",
        "    print(\"Spotify's daily returns are normally distributed.\")\n",
        "else:\n",
        "    print(\"Spotify's daily returns are not normally distributed.\")"
      ],
      "metadata": {
        "colab": {
          "base_uri": "https://localhost:8080/"
        },
        "id": "GQGx2HlaSSYq",
        "outputId": "d833b451-5c42-4029-c078-6683c63b3937"
      },
      "execution_count": null,
      "outputs": [
        {
          "output_type": "stream",
          "name": "stdout",
          "text": [
            "Spotify's daily returns are not normally distributed.\n"
          ]
        }
      ]
    },
    {
      "cell_type": "markdown",
      "source": [
        "Identifyting Outliers"
      ],
      "metadata": {
        "id": "ZeKnZQzTV3xN"
      }
    },
    {
      "cell_type": "code",
      "source": [
        "# Identify outliers (dates with returns beyond ±3 standard deviations)\n",
        "mean_return = spotify_data['Daily Return'].mean()\n",
        "std_return = spotify_data['Daily Return'].std()"
      ],
      "metadata": {
        "id": "NCjswNkgSXnV"
      },
      "execution_count": null,
      "outputs": []
    },
    {
      "cell_type": "code",
      "source": [
        "print(\"Mean of Daily Returns:\", mean_return)\n",
        "print(\"Standard Deviation of Daily Returns:\", std_return)"
      ],
      "metadata": {
        "colab": {
          "base_uri": "https://localhost:8080/"
        },
        "id": "KERFcatpS6KQ",
        "outputId": "947929ff-f85d-4bac-b6aa-a85ca9949d16"
      },
      "execution_count": null,
      "outputs": [
        {
          "output_type": "stream",
          "name": "stdout",
          "text": [
            "Mean of Daily Returns: 0.0014164792815354436\n",
            "Standard Deviation of Daily Returns: 0.03129363481675846\n"
          ]
        }
      ]
    },
    {
      "cell_type": "markdown",
      "source": [
        "Identifying those dates and returns that were smaller than -3 standard deviations or larger than +3 standard deviations."
      ],
      "metadata": {
        "id": "I3UiG3FGWCRp"
      }
    },
    {
      "cell_type": "code",
      "source": [
        "# Identify dates where returns are >3 std or < -3 std\n",
        "outliers = spotify_data[(spotify_data['Daily Return'] > mean_return + 3*std_return) |\n",
        "                        (spotify_data['Daily Return'] < mean_return - 3*std_return)]"
      ],
      "metadata": {
        "id": "7KhHs_zVSa3K"
      },
      "execution_count": null,
      "outputs": []
    },
    {
      "cell_type": "code",
      "source": [
        "print(\"\\nOutliers (dates with returns beyond ±3 standard deviations):\")\n",
        "print(outliers[['SPOT', 'Daily Return']])"
      ],
      "metadata": {
        "colab": {
          "base_uri": "https://localhost:8080/"
        },
        "id": "IJCWbC6lSdcy",
        "outputId": "5dd411de-5d87-47fa-891d-a5c8daabc074"
      },
      "execution_count": null,
      "outputs": [
        {
          "output_type": "stream",
          "name": "stdout",
          "text": [
            "\n",
            "Outliers (dates with returns beyond ±3 standard deviations):\n",
            "                  SPOT  Daily Return\n",
            "Date                                \n",
            "2020-03-16  117.639999     -0.105807\n",
            "2020-03-24  129.690002      0.097394\n",
            "2020-04-29  155.779999      0.114466\n",
            "2020-06-18  225.279999      0.127358\n",
            "2020-06-25  267.470001      0.101334\n",
            "2020-07-20  291.190002      0.106219\n",
            "2020-10-30  239.889999     -0.101098\n",
            "2020-12-02  320.890015      0.125969\n",
            "2021-02-25  303.059998     -0.094505\n",
            "2021-04-28  256.839996     -0.123174\n",
            "2022-01-31  196.259995      0.134582\n",
            "2022-02-03  159.759995     -0.167570\n",
            "2022-04-20  122.489998     -0.108580\n",
            "2022-04-27   96.669998     -0.124445\n",
            "2022-05-09   94.440002     -0.097822\n",
            "2022-07-27  116.610001      0.121574\n",
            "2022-10-26   84.419998     -0.130139\n",
            "2022-11-10   78.440002      0.098599\n",
            "2023-01-31  112.720001      0.127200\n",
            "2023-07-25  140.380005     -0.142560\n",
            "2023-10-24  170.630005      0.103616\n",
            "2024-04-23  303.309998      0.114127\n",
            "2024-07-23  330.790009      0.119614\n",
            "2024-11-13  467.369995      0.114404\n"
          ]
        }
      ]
    },
    {
      "cell_type": "markdown",
      "source": [],
      "metadata": {
        "id": "ZtgWlMicXeWf"
      }
    },
    {
      "cell_type": "code",
      "source": [
        "# Calculating the daily returns for DJIA\n",
        "# Use '^DJI' column for DJIA\n",
        "djia_data['Daily Return'] = djia_data['^DJI'].pct_change()"
      ],
      "metadata": {
        "id": "Musw17PNTnFF"
      },
      "execution_count": null,
      "outputs": []
    },
    {
      "cell_type": "code",
      "source": [
        "# Performing a  linear regression between Spotify and DJIA daily returns\n",
        "# Merging Spotify and DJIA data on the date index\n",
        "merged_data = pd.merge(spotify_data[['Daily Return']], djia_data[['Daily Return']],\n",
        "                       left_index=True, right_index=True, suffixes=('_spotify', '_djia'))"
      ],
      "metadata": {
        "id": "sHrMsqDjTq9z"
      },
      "execution_count": null,
      "outputs": []
    },
    {
      "cell_type": "code",
      "source": [
        "# Removing rows with missing data (NaN values)\n",
        "merged_data = merged_data.dropna()"
      ],
      "metadata": {
        "id": "w2dB0K75TtpN"
      },
      "execution_count": null,
      "outputs": []
    },
    {
      "cell_type": "code",
      "source": [
        "print(\"Merged Data:\\n\", merged_data.head())"
      ],
      "metadata": {
        "colab": {
          "base_uri": "https://localhost:8080/"
        },
        "id": "Crow7rS_Tvy8",
        "outputId": "ba430dda-cf03-4839-db1f-2f011209d08a"
      },
      "execution_count": null,
      "outputs": [
        {
          "output_type": "stream",
          "name": "stdout",
          "text": [
            "Merged Data:\n",
            "             Daily Return_spotify  Daily Return_djia\n",
            "Date                                               \n",
            "2019-12-17              0.004974           0.001107\n",
            "2019-12-18             -0.004356          -0.000986\n",
            "2019-12-19             -0.007888           0.004876\n",
            "2019-12-20              0.004209           0.002753\n",
            "2019-12-23              0.000732           0.003389\n"
          ]
        }
      ]
    },
    {
      "cell_type": "markdown",
      "source": [
        "Downloading the Dow Jones Industrial Average (DJIA) daily adjusted closing price for the same 5 years of history. Calculating its daily returns. Performing a linear regression between DJIA returns (independent variable) and the stock’s returns (dependent variable). Report Beta, Alpha, R-square, pvalue."
      ],
      "metadata": {
        "id": "a2ZEosV_WkAA"
      }
    },
    {
      "cell_type": "code",
      "source": [
        "# Performing Linear Regression\n",
        "X = merged_data['Daily Return_djia']\n",
        "y = merged_data['Daily Return_spotify']\n",
        "X = sm.add_constant(X)  # Add a constant for the intercept\n",
        "\n",
        "model = sm.OLS(y, X).fit()"
      ],
      "metadata": {
        "id": "Poq-Zg73TzN_"
      },
      "execution_count": null,
      "outputs": []
    },
    {
      "cell_type": "code",
      "source": [
        "# Print the results of the regression\n",
        "print(\"\\nLinear Regression Results:\")\n",
        "print(model.summary())"
      ],
      "metadata": {
        "colab": {
          "base_uri": "https://localhost:8080/"
        },
        "id": "xJTNP-beT26L",
        "outputId": "704386a1-dd09-4469-a28c-cf5707f34f5d"
      },
      "execution_count": null,
      "outputs": [
        {
          "output_type": "stream",
          "name": "stdout",
          "text": [
            "\n",
            "Linear Regression Results:\n",
            "                             OLS Regression Results                             \n",
            "================================================================================\n",
            "Dep. Variable:     Daily Return_spotify   R-squared:                       0.120\n",
            "Model:                              OLS   Adj. R-squared:                  0.119\n",
            "Method:                   Least Squares   F-statistic:                     171.0\n",
            "Date:                  Sat, 14 Dec 2024   Prob (F-statistic):           9.80e-37\n",
            "Time:                          03:56:35   Log-Likelihood:                 2651.9\n",
            "No. Observations:                  1257   AIC:                            -5300.\n",
            "Df Residuals:                      1255   BIC:                            -5289.\n",
            "Df Model:                             1                                         \n",
            "Covariance Type:              nonrobust                                         \n",
            "=====================================================================================\n",
            "                        coef    std err          t      P>|t|      [0.025      0.975]\n",
            "-------------------------------------------------------------------------------------\n",
            "const                 0.0011      0.001      1.273      0.203      -0.001       0.003\n",
            "Daily Return_djia     0.8296      0.063     13.078      0.000       0.705       0.954\n",
            "==============================================================================\n",
            "Omnibus:                      111.110   Durbin-Watson:                   2.018\n",
            "Prob(Omnibus):                  0.000   Jarque-Bera (JB):              657.521\n",
            "Skew:                           0.097   Prob(JB):                    1.66e-143\n",
            "Kurtosis:                       6.538   Cond. No.                         76.6\n",
            "==============================================================================\n",
            "\n",
            "Notes:\n",
            "[1] Standard Errors assume that the covariance matrix of the errors is correctly specified.\n"
          ]
        }
      ]
    },
    {
      "cell_type": "code",
      "source": [
        "# Extract key values:\n",
        "alpha = model.params[0]\n",
        "beta = model.params[1]\n",
        "r_squared = model.rsquared\n",
        "p_value = model.pvalues[1]"
      ],
      "metadata": {
        "colab": {
          "base_uri": "https://localhost:8080/"
        },
        "id": "Fguk-kUPT_bk",
        "outputId": "72586d37-de02-499c-c32e-685bc2c926ef"
      },
      "execution_count": null,
      "outputs": [
        {
          "output_type": "stream",
          "name": "stderr",
          "text": [
            "<ipython-input-30-d37dcbbef660>:2: FutureWarning: Series.__getitem__ treating keys as positions is deprecated. In a future version, integer keys will always be treated as labels (consistent with DataFrame behavior). To access a value by position, use `ser.iloc[pos]`\n",
            "  alpha = model.params[0]\n",
            "<ipython-input-30-d37dcbbef660>:3: FutureWarning: Series.__getitem__ treating keys as positions is deprecated. In a future version, integer keys will always be treated as labels (consistent with DataFrame behavior). To access a value by position, use `ser.iloc[pos]`\n",
            "  beta = model.params[1]\n",
            "<ipython-input-30-d37dcbbef660>:5: FutureWarning: Series.__getitem__ treating keys as positions is deprecated. In a future version, integer keys will always be treated as labels (consistent with DataFrame behavior). To access a value by position, use `ser.iloc[pos]`\n",
            "  p_value = model.pvalues[1]\n"
          ]
        }
      ]
    },
    {
      "cell_type": "code",
      "source": [
        "print(f\"\\nAlpha: {alpha:.4f}\")\n",
        "print(f\"Beta: {beta:.4f}\")\n",
        "print(f\"R-squared: {r_squared:.4f}\")\n",
        "print(f\"P-value: {p_value:.4f}\")"
      ],
      "metadata": {
        "colab": {
          "base_uri": "https://localhost:8080/"
        },
        "id": "UwEfQciiUDdn",
        "outputId": "e3ae0d13-ad42-44fd-9084-8e175d6bbe57"
      },
      "execution_count": null,
      "outputs": [
        {
          "output_type": "stream",
          "name": "stdout",
          "text": [
            "\n",
            "Alpha: 0.0011\n",
            "Beta: 0.8296\n",
            "R-squared: 0.1199\n",
            "P-value: 0.0000\n"
          ]
        }
      ]
    }
  ]
}